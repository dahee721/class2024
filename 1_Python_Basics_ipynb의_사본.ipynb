{
  "nbformat": 4,
  "nbformat_minor": 0,
  "metadata": {
    "colab": {
      "provenance": [],
      "include_colab_link": true
    },
    "kernelspec": {
      "name": "python3",
      "display_name": "Python 3"
    },
    "language_info": {
      "name": "python"
    }
  },
  "cells": [
    {
      "cell_type": "markdown",
      "metadata": {
        "id": "view-in-github",
        "colab_type": "text"
      },
      "source": [
        "<a href=\"https://colab.research.google.com/github/dahee721/class2024/blob/main/1_Python_Basics_ipynb%EC%9D%98_%EC%82%AC%EB%B3%B8.ipynb\" target=\"_parent\"><img src=\"https://colab.research.google.com/assets/colab-badge.svg\" alt=\"Open In Colab\"/></a>"
      ]
    },
    {
      "cell_type": "markdown",
      "source": [
        "# What is Python?\n",
        "\n",
        "Python is a programming language known for its readability and versatility. It is widely used in various fields such as:\n",
        "\n",
        "- Web Development\n",
        "- Data Analysis\n",
        "- Artificial Intelligence\n",
        "- Scientific Computing\n",
        "- Game Development\n",
        "- and more\n",
        "\n",
        "## Features of Python\n",
        "\n",
        "- **Readability**: Python has a clean syntax that makes it easy to read and write code.\n",
        "- **Versatility**: Python is used in various fields.\n",
        "- **Community Support**: A large and active community contributes to a rich set of libraries and frameworks.\n",
        "- **Cross-Platform**: Python is available and can run on various operating systems like Windows, Linux, and macOS."
      ],
      "metadata": {
        "id": "bouNYp1LfaRU"
      }
    },
    {
      "cell_type": "code",
      "source": [],
      "metadata": {
        "id": "ODjn-qKkBVm4"
      },
      "execution_count": null,
      "outputs": []
    },
    {
      "cell_type": "markdown",
      "source": [
        "# Python Basics"
      ],
      "metadata": {
        "id": "dlXXM-qsi0Cl"
      }
    },
    {
      "cell_type": "markdown",
      "source": [
        "## Function & Data\n",
        "\n",
        "```\n",
        "print(\"Hello world!\")\n",
        "```"
      ],
      "metadata": {
        "id": "PZjRFic5i963"
      }
    },
    {
      "cell_type": "code",
      "source": [],
      "metadata": {
        "id": "tuRxUTpo-o8J"
      },
      "execution_count": null,
      "outputs": []
    },
    {
      "cell_type": "markdown",
      "source": [
        "## Variable\n",
        "\n",
        "```\n",
        "a = \"Hello world!\"\n",
        "print(a)\n",
        "```"
      ],
      "metadata": {
        "id": "0qpSJt78j2K2"
      }
    },
    {
      "cell_type": "markdown",
      "source": [
        "## Data Type: int, float\n",
        "\n",
        "* Creating Numbers\n",
        "```\n",
        "a = 1\n",
        "b = 3.14\n",
        "```\n",
        "\n",
        "* Arithmetic Operations\n",
        "```\n",
        "10 + 2\n",
        "10 - 2\n",
        "10 * 2\n",
        "10 / 2\n",
        "10 ** 2\n",
        "```"
      ],
      "metadata": {
        "id": "xL-f7r2RkBlU"
      }
    },
    {
      "cell_type": "markdown",
      "source": [
        "## Data Type: list\n",
        "\n",
        "* Creating Lists\n",
        "```\n",
        "a = [1, 2, 3, 4, 5]\n",
        "```\n",
        "\n",
        "* Accessing Items\n",
        "```\n",
        "b = a[0]\n",
        "c = a[1:3]\n",
        "```\n",
        "\n",
        "* Modifying Items\n",
        "```\n",
        "a[1] = 20\n",
        "```\n",
        "\n",
        "* Appending & Removing Items\n",
        "```\n",
        "a.append(6)\n",
        "a.pop(2)\n",
        "```\n",
        "\n",
        "* Combining Lists\n",
        "```\n",
        "a = [1, 2, 3]\n",
        "b = [4, 5]\n",
        "c = a + b\n",
        "```"
      ],
      "metadata": {
        "id": "OYoVTcRplPOi"
      }
    },
    {
      "cell_type": "code",
      "source": [
        "a = [1, 2, 3, 4, 5]"
      ],
      "metadata": {
        "id": "W6yIOIkK_Krk"
      },
      "execution_count": null,
      "outputs": []
    },
    {
      "cell_type": "code",
      "source": [
        "a.pop(3)\n",
        "\n",
        "print(a)"
      ],
      "metadata": {
        "colab": {
          "base_uri": "https://localhost:8080/"
        },
        "id": "A4Tgn32k_Srg",
        "outputId": "50865808-2c16-4c53-8365-ca6274dc7747"
      },
      "execution_count": null,
      "outputs": [
        {
          "output_type": "stream",
          "name": "stdout",
          "text": [
            "[1, 2, 3, 5]\n"
          ]
        }
      ]
    },
    {
      "cell_type": "markdown",
      "source": [
        "## Data Type: string\n",
        "\n",
        "* Creating Strings\n",
        "```\n",
        "a = \"Hello world!\"\n",
        "```\n",
        "\n",
        "* Accessing Characters\n",
        "```\n",
        "b = a[0]\n",
        "c = a[1:3]\n",
        "```\n",
        "\n",
        "* Combining Strings\n",
        "```\n",
        "a = \"Hello \"\n",
        "b = \"world!\"\n",
        "c = a + b\n",
        "```"
      ],
      "metadata": {
        "id": "Y-0repiDr0cH"
      }
    },
    {
      "cell_type": "code",
      "source": [
        "#list와 string은 순서가 있어서 sequence라고 부르기도 함\n",
        "#리스트의 데이터는 순서가 매겨져 있지만 딕셔너리 데이터들에는 순서 존재하지 않음"
      ],
      "metadata": {
        "id": "quogYt7y_817"
      },
      "execution_count": null,
      "outputs": []
    },
    {
      "cell_type": "markdown",
      "source": [
        "## Data Type: dictionary\n",
        "\n",
        "* Creating Dictionaries\n",
        "```\n",
        "a = { \"name\": \"Danielle\", \"age\" : 25, \"city\": \"Newcastle\" }\n",
        "```\n",
        "\n",
        "* Accessing Values\n",
        "```\n",
        "b = a[\"name\"]\n",
        "```\n",
        "\n",
        "* Modifying Values\n",
        "```\n",
        "a[\"age\"] = 19\n",
        "```\n",
        "\n",
        "* Adding & Removing Key-Value Pairs\n",
        "```\n",
        "a[\"country\"] = \"Australia\"\n",
        "del a[\"city\"]\n",
        "```"
      ],
      "metadata": {
        "id": "VWcO75jfllNC"
      }
    }
  ]
}