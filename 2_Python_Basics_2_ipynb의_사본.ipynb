{
  "nbformat": 4,
  "nbformat_minor": 0,
  "metadata": {
    "colab": {
      "provenance": [],
      "include_colab_link": true
    },
    "kernelspec": {
      "name": "python3",
      "display_name": "Python 3"
    },
    "language_info": {
      "name": "python"
    }
  },
  "cells": [
    {
      "cell_type": "markdown",
      "metadata": {
        "id": "view-in-github",
        "colab_type": "text"
      },
      "source": [
        "<a href=\"https://colab.research.google.com/github/dahee721/class2024/blob/main/2_Python_Basics_2_ipynb%EC%9D%98_%EC%82%AC%EB%B3%B8.ipynb\" target=\"_parent\"><img src=\"https://colab.research.google.com/assets/colab-badge.svg\" alt=\"Open In Colab\"/></a>"
      ]
    },
    {
      "cell_type": "markdown",
      "source": [
        " # Python Basics (2)"
      ],
      "metadata": {
        "id": "Z3AJ45wgJDMt"
      }
    },
    {
      "cell_type": "markdown",
      "source": [
        "## Data Type: boolean\n",
        "\n",
        "* Creating Boolean Values\n",
        "```python\n",
        "a = True\n",
        "b = False\n",
        "```\n",
        "\n",
        "* Comparison\n",
        "```python\n",
        "a == b\n",
        "a != b\n",
        "```\n",
        "\n",
        "* Logical Operation\n",
        "```python\n",
        "a and b\n",
        "a or b\n",
        "not a\n",
        "```"
      ],
      "metadata": {
        "id": "L8Nxm1yTJJpv"
      }
    },
    {
      "cell_type": "markdown",
      "source": [
        "## Control Flow: if, elif, else\n",
        "\n",
        "* Syntax\n",
        "```python\n",
        "if condition:\n",
        "    # execute this block of code\n",
        "elif another_condition:\n",
        "    # execute this block of code\n",
        "else:\n",
        "    # if none of the above conditions are true, execute this block\n",
        "```"
      ],
      "metadata": {
        "id": "l5gqUhrVMBn8"
      }
    },
    {
      "cell_type": "markdown",
      "source": [
        "## Control Flow: for\n",
        "\n",
        "* Syntax\n",
        "```python\n",
        "for item in sequence:\n",
        "    # execute this block of code for each item in the sequence\n",
        "```"
      ],
      "metadata": {
        "id": "ZDeCBGm9M1RJ"
      }
    },
    {
      "cell_type": "code",
      "source": [
        "for x in [1, 2, 3]:\n",
        "  print(x)\n"
      ],
      "metadata": {
        "colab": {
          "base_uri": "https://localhost:8080/"
        },
        "id": "ypqVC7fgDUa-",
        "outputId": "59bc7531-4eb5-4d92-82d7-1c80e1b0b6c0"
      },
      "execution_count": null,
      "outputs": [
        {
          "output_type": "stream",
          "name": "stdout",
          "text": [
            "1\n",
            "2\n",
            "3\n"
          ]
        }
      ]
    },
    {
      "cell_type": "markdown",
      "source": [
        "## Control Flow: while\n",
        "\n",
        "* Syntax\n",
        "```python\n",
        "while condition:\n",
        "    # execute this block of code as long as the condition is true\n",
        "```"
      ],
      "metadata": {
        "id": "vhOg4NV_NNL-"
      }
    },
    {
      "cell_type": "code",
      "source": [
        "count = 0\n",
        "\n",
        "while count < 5:\n",
        "  print(count)\n",
        "  count = count + 1\n",
        "\n",
        "  #while 조건문이 만족할 때, 밑에 print(count)랑 count=count+1이 돌아감"
      ],
      "metadata": {
        "colab": {
          "base_uri": "https://localhost:8080/"
        },
        "id": "QJe39oVAD1MD",
        "outputId": "c2a6c93f-b192-4260-9efc-e117f189bff1"
      },
      "execution_count": null,
      "outputs": [
        {
          "output_type": "stream",
          "name": "stdout",
          "text": [
            "0\n",
            "1\n",
            "2\n",
            "3\n",
            "4\n"
          ]
        }
      ]
    },
    {
      "cell_type": "markdown",
      "source": [
        "## Iterating Over Lists\n",
        "\n",
        "* Iterating Over Lists\n",
        "```python\n",
        "for item in my_list:\n",
        "    print(item)\n",
        "```\n",
        "\n",
        "* List Comprehensions\n",
        "```python\n",
        "new_list = [x + 1 for x in range(5)]\n",
        "```"
      ],
      "metadata": {
        "id": "N-MrxAzRNoXL"
      }
    },
    {
      "cell_type": "code",
      "source": [
        "a = [0, 1, 2, 3, 4]\n",
        "b = [] #empty list\n",
        "\n",
        "# append는 list에다가 데이터를 하나씩 추가하는 함수\n",
        "\n",
        "for i in a:\n",
        "  b.append(i+1)\n",
        "\n",
        "print(b)\n",
        "\n",
        "#이걸 줄인게 list comprehension"
      ],
      "metadata": {
        "colab": {
          "base_uri": "https://localhost:8080/"
        },
        "id": "_TSaenNaFB2e",
        "outputId": "df572359-8171-43ec-a808-ebaf19ad326c"
      },
      "execution_count": null,
      "outputs": [
        {
          "output_type": "stream",
          "name": "stdout",
          "text": [
            "[1, 2, 3, 4, 5]\n"
          ]
        }
      ]
    },
    {
      "cell_type": "code",
      "source": [
        "c = [0, 1, 2, 3, 4]\n",
        "d = [i + 1 for i in c]\n",
        "\n",
        "print(d)"
      ],
      "metadata": {
        "colab": {
          "base_uri": "https://localhost:8080/"
        },
        "id": "0V0-SZU7GD3W",
        "outputId": "d0a6d656-08e4-46c8-95e9-2326a2b3d4da"
      },
      "execution_count": null,
      "outputs": [
        {
          "output_type": "stream",
          "name": "stdout",
          "text": [
            "[1, 2, 3, 4, 5]\n"
          ]
        }
      ]
    },
    {
      "cell_type": "code",
      "source": [
        "e = [0, 1, 2, 3, 4]\n",
        "f = {}\n",
        "\n",
        "for i in e:\n",
        "  f[i] = i + 1\n",
        "\n",
        "print(f)"
      ],
      "metadata": {
        "colab": {
          "base_uri": "https://localhost:8080/"
        },
        "id": "iSh8MyYOHdNm",
        "outputId": "147aa41e-67d9-4716-bc34-dbb8b349e1af"
      },
      "execution_count": null,
      "outputs": [
        {
          "output_type": "stream",
          "name": "stdout",
          "text": [
            "{0: 1, 1: 2, 2: 3, 3: 4, 4: 5}\n"
          ]
        }
      ]
    },
    {
      "cell_type": "code",
      "source": [
        "a = [1, 2, 3, 4]\n",
        "\n",
        "print(a[0:2])"
      ],
      "metadata": {
        "colab": {
          "base_uri": "https://localhost:8080/"
        },
        "id": "o8lpKxalIahD",
        "outputId": "0d6158f6-26d2-433d-c4ed-a0278d161166"
      },
      "execution_count": null,
      "outputs": [
        {
          "output_type": "stream",
          "name": "stdout",
          "text": [
            "[1, 2]\n"
          ]
        }
      ]
    },
    {
      "cell_type": "code",
      "source": [
        "a = {\"name\": \"Luna\", \"age\": 20}\n",
        "\n",
        "#name이 key고 Luna가 value\n",
        "\n",
        "for i in a.items():\n",
        " print(i)\n",
        "\n",
        "#위에 쓴 게 tuple임"
      ],
      "metadata": {
        "colab": {
          "base_uri": "https://localhost:8080/"
        },
        "id": "ueKgPhECJkm9",
        "outputId": "bc6f4f59-0a8e-402c-bc5e-b52d73f42206"
      },
      "execution_count": null,
      "outputs": [
        {
          "output_type": "stream",
          "name": "stdout",
          "text": [
            "('name', 'Luna')\n",
            "('age', 20)\n"
          ]
        }
      ]
    },
    {
      "cell_type": "code",
      "source": [
        "for k, v in a.items ():\n",
        "  print (k)\n",
        "  print (v)\n",
        "  print (\"====\")\n"
      ],
      "metadata": {
        "colab": {
          "base_uri": "https://localhost:8080/"
        },
        "id": "dnF8TGvGKmcV",
        "outputId": "52ca2591-e9dd-4ab4-9411-1523d8d6c977"
      },
      "execution_count": null,
      "outputs": [
        {
          "output_type": "stream",
          "name": "stdout",
          "text": [
            "name\n",
            "Luna\n",
            "====\n",
            "age\n",
            "20\n",
            "====\n"
          ]
        }
      ]
    },
    {
      "cell_type": "code",
      "source": [
        "a = {\"name\": \"Luna\", \"age\": 20}\n",
        "print(a.keys ())\n",
        "print(a.values ())"
      ],
      "metadata": {
        "colab": {
          "base_uri": "https://localhost:8080/"
        },
        "id": "ib9o3tUPI_CE",
        "outputId": "dc028256-e0b6-4de6-dfe5-85f68c9bb249"
      },
      "execution_count": null,
      "outputs": [
        {
          "output_type": "stream",
          "name": "stdout",
          "text": [
            "dict_keys(['name', 'age'])\n",
            "dict_values(['Luna', 20])\n"
          ]
        }
      ]
    },
    {
      "cell_type": "markdown",
      "source": [
        "## Iterating Over Dictionaries\n",
        "\n",
        "* Iterating Over Dictionaries\n",
        "```python\n",
        "for key, value in my_dict.items():\n",
        "    print(key, value)\n",
        "```\n",
        "\n",
        "* Dictionary Comprehensions\n",
        "```python\n",
        "new_dict = {x: x + 1 for x in range(5)}\n",
        "```"
      ],
      "metadata": {
        "id": "1ICrGtdPOuYI"
      }
    },
    {
      "cell_type": "markdown",
      "source": [
        "## Function\n",
        "\n",
        "* Syntax\n",
        "\n",
        "```python\n",
        "def function_name(parameters):\n",
        "    # block of code\n",
        "    return result\n",
        "```\n",
        "\n",
        "* Scope\n",
        "\n",
        "```python\n",
        "x = 10\n",
        "\n",
        "def my_function():\n",
        "    y = 5\n",
        "    print(x)  # This will print 10 (global variable)\n",
        "    print(y)  # This will print 5 (local variable)\n",
        "\n",
        "my_function()\n",
        "print(y)  # This will cause an error\n",
        "```"
      ],
      "metadata": {
        "id": "98KzdJ92PUew"
      }
    },
    {
      "cell_type": "code",
      "source": [
        "#2개의 숫자를 더하는 함수 만들기\n",
        "\n",
        "def add_numbers(num1, num2):\n",
        "    result = num1 + num2\n",
        "    return result"
      ],
      "metadata": {
        "id": "pyDXpalALXSE"
      },
      "execution_count": null,
      "outputs": []
    },
    {
      "cell_type": "code",
      "source": [
        "x = add_numbers(1,2)"
      ],
      "metadata": {
        "id": "VyJwFtlBMHLM"
      },
      "execution_count": null,
      "outputs": []
    },
    {
      "cell_type": "code",
      "source": [
        "#input이 없는 custom function\n",
        "#output은 return~인데, Output도 없어도 돌아감\n",
        "\n",
        "def greetings():\n",
        "  return \"Hello world\""
      ],
      "metadata": {
        "id": "5Gpd0JzPMv3I"
      },
      "execution_count": null,
      "outputs": []
    },
    {
      "cell_type": "code",
      "source": [
        "x = greetings()\n",
        "print(x)"
      ],
      "metadata": {
        "colab": {
          "base_uri": "https://localhost:8080/"
        },
        "id": "qZx8R5gXM04K",
        "outputId": "b7dc5e02-4814-4582-cd8f-21ca25b2532c"
      },
      "execution_count": null,
      "outputs": [
        {
          "output_type": "stream",
          "name": "stdout",
          "text": [
            "Hello world\n"
          ]
        }
      ]
    },
    {
      "cell_type": "code",
      "source": [
        "#scope\n",
        "x = 10\n",
        "\n",
        "def my_function():\n",
        "    y = 5 #local variable 특정 마이펑션이라는 함수 내부에서만 접근가능\n",
        "    print(x)\n",
        "    print(y)\n",
        "\n",
        "my_function()"
      ],
      "metadata": {
        "colab": {
          "base_uri": "https://localhost:8080/"
        },
        "id": "XSBrcY5nNktd",
        "outputId": "b20958bb-f2a4-439f-dfcb-7cee708b5fd1"
      },
      "execution_count": null,
      "outputs": [
        {
          "output_type": "stream",
          "name": "stdout",
          "text": [
            "10\n",
            "5\n"
          ]
        }
      ]
    }
  ]
}