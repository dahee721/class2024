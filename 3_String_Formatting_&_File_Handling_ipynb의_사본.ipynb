{
  "nbformat": 4,
  "nbformat_minor": 0,
  "metadata": {
    "colab": {
      "provenance": [],
      "include_colab_link": true
    },
    "kernelspec": {
      "name": "python3",
      "display_name": "Python 3"
    },
    "language_info": {
      "name": "python"
    }
  },
  "cells": [
    {
      "cell_type": "markdown",
      "metadata": {
        "id": "view-in-github",
        "colab_type": "text"
      },
      "source": [
        "<a href=\"https://colab.research.google.com/github/dahee721/class2024/blob/main/3_String_Formatting_%26_File_Handling_ipynb%EC%9D%98_%EC%82%AC%EB%B3%B8.ipynb\" target=\"_parent\"><img src=\"https://colab.research.google.com/assets/colab-badge.svg\" alt=\"Open In Colab\"/></a>"
      ]
    },
    {
      "cell_type": "markdown",
      "source": [
        "# String Formatting & File Handling"
      ],
      "metadata": {
        "id": "Jt_b0qfrCKrV"
      }
    },
    {
      "cell_type": "markdown",
      "source": [
        "## String Formatting\n",
        "\n",
        "* f-string\n",
        "\n",
        "```python\n",
        "language = \"python\"\n",
        "sentence = f\"Hello, welcome to {language} programming!\"\n",
        "print(sentence)\n",
        "```"
      ],
      "metadata": {
        "id": "nb_UZmyuFMYP"
      }
    },
    {
      "cell_type": "markdown",
      "source": [
        "## Reading From Files\n",
        "\n",
        "* read()\n",
        "\n",
        "```python\n",
        "with open(\"sample.txt\", \"r\") as file:\n",
        "  content = file.read()\n",
        "```\n",
        "\n",
        "* readline()\n",
        "\n",
        "```python\n",
        "with open(\"sample.txt\", \"r\") as file:\n",
        "  line = file.readline()\n",
        "```\n",
        "\n",
        "* readlines()\n",
        "\n",
        "```python\n",
        "with open(\"sample.txt\", \"r\") as file:\n",
        "  lines = file.readlines()\n",
        "  \n",
        "  for line in lines:\n",
        "    print(line)\n",
        "```"
      ],
      "metadata": {
        "id": "m26WKcyzCVPR"
      }
    },
    {
      "cell_type": "code",
      "source": [
        "f = open(\"sample.txt\", \"r\")\n",
        "content = f.read()"
      ],
      "metadata": {
        "id": "OegXoPqFNcsX"
      },
      "execution_count": null,
      "outputs": []
    },
    {
      "cell_type": "code",
      "source": [
        "print(content)\n",
        "f.close()"
      ],
      "metadata": {
        "id": "osQ-4Y4WNyaf",
        "outputId": "1c763994-273f-4c69-cf9c-d71f7f4e13f3",
        "colab": {
          "base_uri": "https://localhost:8080/"
        }
      },
      "execution_count": null,
      "outputs": [
        {
          "output_type": "stream",
          "name": "stdout",
          "text": [
            "Hello Phython\n"
          ]
        }
      ]
    },
    {
      "cell_type": "code",
      "source": [
        "with open (\"sample.txt\", \"r\") as f:\n",
        "  content3 = f. readlines ()\n",
        "print (content3)"
      ],
      "metadata": {
        "id": "jJKYNy6xPPJO",
        "outputId": "4fe68064-f3c5-477f-e742-67a836fc9814",
        "colab": {
          "base_uri": "https://localhost:8080/"
        }
      },
      "execution_count": null,
      "outputs": [
        {
          "output_type": "stream",
          "name": "stdout",
          "text": [
            "['Hello Phython\\n', 'Hello world\\n', 'Hello me']\n"
          ]
        }
      ]
    },
    {
      "cell_type": "markdown",
      "source": [
        "## Writing To Files\n",
        "\n",
        "* write()\n",
        "\n",
        "```python\n",
        "with open(\"sample.txt\", \"w\") as file:\n",
        "  file.write(\"Hello world!\")\n",
        "```\n",
        "\n",
        "* append\n",
        "\n",
        "```python\n",
        "with open(\"sample.txt\", \"a\") as file:\n",
        "  file.write(\"Hello python!\")\n",
        "```\n",
        "\n",
        "* newline\n",
        "\n",
        "```python\n",
        "with open(\"sample.txt\", \"w\") as file:\n",
        "  file.write(\"Hello world!\\n\")\n",
        "  file.write(\"Hello python!\")\n",
        "```"
      ],
      "metadata": {
        "id": "8COXeSv2Dzmm"
      }
    },
    {
      "cell_type": "code",
      "source": [
        "with open (\"sample.txt\", \"w\") as f:\n",
        "  f.write(\"Apple\")\n",
        "\n",
        "#write는 덮어쓰기, append는 추가하기"
      ],
      "metadata": {
        "id": "KF_yAhCGPlvW"
      },
      "execution_count": null,
      "outputs": []
    },
    {
      "cell_type": "code",
      "source": [
        "with open (\"sample.txt\", \"w\") as f:\n",
        "  f.write(\"Banana\\n\")\n",
        "  f.write(\"Banana\\n\")"
      ],
      "metadata": {
        "id": "VZuivhSZP6oj"
      },
      "execution_count": null,
      "outputs": []
    },
    {
      "cell_type": "code",
      "source": [
        "with open (\"sample.txt\", \"a\") as f:\n",
        "  f.write(\"\\nApple\")"
      ],
      "metadata": {
        "id": "FT_oeOVoQdY1"
      },
      "execution_count": null,
      "outputs": []
    }
  ]
}