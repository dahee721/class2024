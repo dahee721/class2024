{
  "nbformat": 4,
  "nbformat_minor": 0,
  "metadata": {
    "colab": {
      "provenance": [],
      "authorship_tag": "ABX9TyNNXgCnbDSA5PuVXDRFZc0W",
      "include_colab_link": true
    },
    "kernelspec": {
      "name": "python3",
      "display_name": "Python 3"
    },
    "language_info": {
      "name": "python"
    }
  },
  "cells": [
    {
      "cell_type": "markdown",
      "metadata": {
        "id": "view-in-github",
        "colab_type": "text"
      },
      "source": [
        "<a href=\"https://colab.research.google.com/github/dahee721/class2024/blob/main/%EC%A4%91%EA%B0%84%EA%B3%A0%EC%82%AC%EC%A0%95%EB%A6%AC.ipynb\" target=\"_parent\"><img src=\"https://colab.research.google.com/assets/colab-badge.svg\" alt=\"Open In Colab\"/></a>"
      ]
    },
    {
      "cell_type": "code",
      "execution_count": null,
      "metadata": {
        "id": "aVItaezxuMze"
      },
      "outputs": [],
      "source": [
        "#list, numpy, pandas\n",
        "\n",
        "[1,2,3]\n",
        "np,array([1,2,3])\n",
        "pd.read_csv(\"sample.csv\")\n",
        "\n",
        "1.index\n",
        "  -list\n",
        "   a[o]\n",
        "   a[1:4] #4라고 적지만, 3번 Index까지 불러오는거\n",
        "  -numpy array (1d vector, 2d matrix) #1차원, 2차원이라는 뜻 / 1차원일때는 list와 똑같음\n",
        "   a[0, 2] #2차원 -> 나는 0번 row, 2번 column이 교차하는 데이터를 갖고올거야 ~\n",
        "   a[1:4, 2:4] #시험에 안나올듯\n",
        "  -pandas\n",
        "   a.loc[0] #row 하나를 통째로 가져올 때\n",
        "   a[\"Category\"] #column 하나를 통째로 가져올 때\n",
        "   a.loc[0, \"Category\"] #특정 위치에 있는 데이터를 가져올 때\n",
        "   a.loc[1:2, [\"Category\", \"Quality\"]] #네모칸으로 가져올 때\n",
        "\n",
        "2.add\n",
        "  -list\n",
        "   a.append(1)\n",
        "  -pandas\n",
        "   a.loc[0] = {} #dictionary 형태?\n",
        "\n",
        "3.revise\n",
        "  a[someindexing] = 새로운데이터\n",
        "\n",
        "4.delete\n",
        "  -list\n",
        "  a.pop\n",
        "  -pandas\n",
        "  .drop()\n",
        "\n",
        "5. basic operation\n",
        "  더하기, 사칙연산 + - * / -> list는 적합하지 않음\n",
        "\n",
        "  numpy, pandas에는 적합\n",
        "  특정 데이터, column이 왔을 때, X + 2 하면 계산 가능"
      ]
    }
  ]
}